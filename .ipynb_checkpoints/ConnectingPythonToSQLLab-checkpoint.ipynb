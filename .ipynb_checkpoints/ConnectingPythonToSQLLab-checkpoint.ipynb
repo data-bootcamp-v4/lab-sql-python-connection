{
 "cells": [
  {
   "cell_type": "code",
   "execution_count": 1,
   "id": "42d6de23",
   "metadata": {},
   "outputs": [
    {
     "name": "stdout",
     "output_type": "stream",
     "text": [
      "Requirement already satisfied: mysql-connector-python in /Users/danieldepaoli/anaconda3/lib/python3.10/site-packages (8.1.0)\n",
      "Requirement already satisfied: protobuf<=4.21.12,>=4.21.1 in /Users/danieldepaoli/anaconda3/lib/python3.10/site-packages (from mysql-connector-python) (4.21.12)\n",
      "Note: you may need to restart the kernel to use updated packages.\n"
     ]
    }
   ],
   "source": [
    "pip install mysql-connector-python"
   ]
  },
  {
   "cell_type": "code",
   "execution_count": 4,
   "id": "fc85485f",
   "metadata": {},
   "outputs": [],
   "source": [
    "import mysql.connector\n",
    "from getpass import getpass"
   ]
  },
  {
   "cell_type": "code",
   "execution_count": 5,
   "id": "9d5d8edf",
   "metadata": {},
   "outputs": [
    {
     "name": "stdout",
     "output_type": "stream",
     "text": [
      "········\n"
     ]
    }
   ],
   "source": [
    "cnx = mysql.connector.connect(user = \"root\",\n",
    "                             password = getpass(),\n",
    "                             host = \"localhost\",\n",
    "                             database = \"sakila\")"
   ]
  },
  {
   "cell_type": "code",
   "execution_count": 6,
   "id": "06236899",
   "metadata": {},
   "outputs": [
    {
     "data": {
      "text/plain": [
       "True"
      ]
     },
     "execution_count": 6,
     "metadata": {},
     "output_type": "execute_result"
    }
   ],
   "source": [
    "cnx.is_connected()"
   ]
  },
  {
   "cell_type": "code",
   "execution_count": 7,
   "id": "5d42526a",
   "metadata": {},
   "outputs": [],
   "source": [
    "cursor = cnx.cursor()"
   ]
  },
  {
   "cell_type": "code",
   "execution_count": 8,
   "id": "9371fc3d",
   "metadata": {},
   "outputs": [],
   "source": [
    "import pandas as pd"
   ]
  },
  {
   "cell_type": "code",
   "execution_count": 25,
   "id": "eb08d382",
   "metadata": {},
   "outputs": [],
   "source": [
    "def rentals_month(engine, month, year):\n",
    "    # Execute SQL query to retrieve rental data for the specified month and year\n",
    "    query = f\"SELECT * FROM sakila.rental WHERE MONTH(rental_date) = {month} AND YEAR(rental_date) = {year}\"\n",
    "    result = engine.execute(query)\n",
    "    \n",
    "    # Convert the result to a Pandas DataFrame\n",
    "    df = pd.DataFrame(result.fetchall(), columns=result.keys())\n",
    "    \n",
    "    return df"
   ]
  },
  {
   "cell_type": "code",
   "execution_count": 26,
   "id": "117ae33e",
   "metadata": {},
   "outputs": [],
   "source": [
    "def rental_count_month(df, month, year):\n",
    "    # Group the rentals by customer_id and calculate the rental counts\n",
    "    rental_counts = df.groupby('customer_id').size().reset_index(name=f'rentals_{month}_{year}')\n",
    "    \n",
    "    return rental_counts"
   ]
  },
  {
   "cell_type": "code",
   "execution_count": 27,
   "id": "e19896be",
   "metadata": {},
   "outputs": [],
   "source": [
    "def compare_rentals(df1, df2):\n",
    "    # Merge the two DataFrames on customer_id\n",
    "    combined_df = pd.merge(df1, df2, on='customer_id', how='inner')\n",
    "    \n",
    "    # Calculate the difference between the rental counts of the two months\n",
    "    combined_df['difference'] = combined_df[f'rentals_{df2.columns[-1][8:]}'] - combined_df[f'rentals_{df1.columns[-1][8:]}']\n",
    "    \n",
    "    return combined_df"
   ]
  }
 ],
 "metadata": {
  "kernelspec": {
   "display_name": "Python 3 (ipykernel)",
   "language": "python",
   "name": "python3"
  },
  "language_info": {
   "codemirror_mode": {
    "name": "ipython",
    "version": 3
   },
   "file_extension": ".py",
   "mimetype": "text/x-python",
   "name": "python",
   "nbconvert_exporter": "python",
   "pygments_lexer": "ipython3",
   "version": "3.10.9"
  }
 },
 "nbformat": 4,
 "nbformat_minor": 5
}
