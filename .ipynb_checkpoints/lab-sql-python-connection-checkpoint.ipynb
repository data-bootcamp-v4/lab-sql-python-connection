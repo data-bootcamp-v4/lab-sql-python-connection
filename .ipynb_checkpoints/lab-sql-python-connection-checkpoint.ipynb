{
 "cells": [
  {
   "cell_type": "code",
   "execution_count": null,
   "id": "ea87c703-e270-44d4-ae07-32a7824e0813",
   "metadata": {},
   "outputs": [],
   "source": [
    "import pandas as pd\n",
    "from sqlalchemy import create_engine \n",
    "import pymysql.cursors\n",
    "import os\n",
    "import getpass"
   ]
  },
  {
   "cell_type": "code",
   "execution_count": null,
   "id": "206353a6-4596-4725-8af1-22d90da8f426",
   "metadata": {
    "tags": []
   },
   "outputs": [],
   "source": [
    "pw = os.getenv('mysql')"
   ]
  },
  {
   "cell_type": "code",
   "execution_count": null,
   "id": "ccc9d366-83e2-423b-a85a-e4c7034d2cc3",
   "metadata": {},
   "outputs": [],
   "source": [
    "connection_string = 'mysql+pymysql://root:' + pw + '@localhost:3306/'\n",
    "engine = create_engine(connection_string)"
   ]
  },
  {
   "cell_type": "markdown",
   "id": "a047a892-753e-44ea-b8cc-41c92b06402e",
   "metadata": {},
   "source": [
    "1. Establish a connection between Python and the Sakila database."
   ]
  },
  {
   "cell_type": "code",
   "execution_count": null,
   "id": "81c17cfb-5e07-434a-9cc1-7c7b68a07798",
   "metadata": {},
   "outputs": [],
   "source": [
    "sql = \"\"\"\n",
    "create database if not exists py_sql_test \n",
    "\"\"\"\n",
    "with engine.connect() as conn:\n",
    "    conn.execute(sql)"
   ]
  },
  {
   "cell_type": "markdown",
   "id": "4e4700eb-3b0e-4b43-a70b-32e0096a906e",
   "metadata": {},
   "source": [
    "2. Write a Python function called `rentals_month` that retrieves rental data for a given month and year (passed as parameters) from the Sakila database as a Pandas DataFrame. The function should take in three parameters:\n",
    "\n",
    "\t- `engine`: an object representing the database connection engine to be used to establish a connection to the Sakila database.\n",
    "\t- `month`: an integer representing the month for which rental data is to be retrieved.\n",
    "\t- `year`: an integer representing the year for which rental data is to be retrieved.\n",
    "\n",
    "\tThe function should execute a SQL query to retrieve the rental data for the specified month and year from the rental table in the Sakila database, and return it as a pandas DataFrame."
   ]
  },
  {
   "cell_type": "code",
   "execution_count": null,
   "id": "91ef34cf-2309-4aff-a8d7-5277b81f2854",
   "metadata": {},
   "outputs": [],
   "source": [
    "def rentals_month(engine, month, year):\n",
    "    sql = f'''\n",
    "     select *\n",
    "     from sakila.rental\n",
    "     where {year} = year(rental_date)\n",
    "     and {month} = month(rental_date)\n",
    " '''\n",
    "    df = pd.read_sql_query(sql, engine)\n",
    "    return df"
   ]
  },
  {
   "cell_type": "markdown",
   "id": "0b18fbd0-9353-43ae-b81c-9482420fac14",
   "metadata": {},
   "source": [
    "3. Develop a Python function called `rental_count_month` that takes the DataFrame provided by `rentals_month` as input along with the month and year and returns a new DataFrame containing the number of rentals made by each customer_id during the selected month and year. \n",
    "\n",
    "\tThe function should also include the month and year as parameters and use them to name the new column according to the month and year, for example, if the input month is 05 and the year is 2005, the column name should be \"rentals_05_2005\".\n",
    "\n",
    "\n",
    "\t*Hint: Consider making use of pandas [groupby()](https://pandas.pydata.org/docs/reference/api/pandas.DataFrame.groupby.html)*"
   ]
  },
  {
   "cell_type": "code",
   "execution_count": null,
   "id": "58ef967f-6275-49be-8f4c-aad988028413",
   "metadata": {},
   "outputs": [],
   "source": [
    "def rental_count_month(df, month, year):\n",
    "    rentals_by_customer = df.loc[(df['rental_date'].dt.month == month) & (df['rental_date'].dt.year == year)]\\\n",
    "                          .groupby('customer_id')['rental_id'].count().reset_index()\n",
    "    rentals_by_customer = rentals_by_customer.rename(columns={'rental_id': f'rentals_{month}_{year}'})\n",
    "    return rentals_by_customer"
   ]
  },
  {
   "cell_type": "markdown",
   "id": "39a45af4-0a65-4b17-aaf5-0dc01b58e590",
   "metadata": {},
   "source": [
    "4. Create a Python function called `compare_rentals` that takes two DataFrames as input containing the number of rentals made by each customer in different months and years. \n",
    "The function should return a combined DataFrame with a new 'difference' column, which is the difference between the number of rentals in the two months."
   ]
  },
  {
   "cell_type": "code",
   "execution_count": null,
   "id": "481b95b8-dc8d-4ce8-8f85-1761d2d4228f",
   "metadata": {
    "tags": []
   },
   "outputs": [],
   "source": [
    "def compare_rentals(df1, df2):\n",
    "    \n",
    "    merged_df = pd.merge(df1, df2, on='customer_id')\n",
    "    \n",
    "    merged_df['difference'] = merged_df[df1.columns[1]] - merged_df[df2.columns[1]]\n",
    "\n",
    "    return merged_df"
   ]
  },
  {
   "cell_type": "code",
   "execution_count": null,
   "id": "e6e38924-23be-480d-a00f-735f5a73876e",
   "metadata": {
    "scrolled": true
   },
   "outputs": [],
   "source": [
    "may = rentals_month(engine,5,2005)\n",
    "customer_rentals_may = rental_count_month(may, 5, 2005)\n",
    "\n",
    "june = rentals_month(engine,6,2005)\n",
    "customer_rentals_june = rental_count_month(june, 6,2005)\n",
    "\n",
    "\n",
    "comparative = compare_rentals(customer_rentals_may, customer_rentals_june)\n",
    "comparative"
   ]
  }
 ],
 "metadata": {
  "kernelspec": {
   "display_name": "Python 3 (ipykernel)",
   "language": "python",
   "name": "python3"
  },
  "language_info": {
   "codemirror_mode": {
    "name": "ipython",
    "version": 3
   },
   "file_extension": ".py",
   "mimetype": "text/x-python",
   "name": "python",
   "nbconvert_exporter": "python",
   "pygments_lexer": "ipython3",
   "version": "3.10.9"
  }
 },
 "nbformat": 4,
 "nbformat_minor": 5
}
