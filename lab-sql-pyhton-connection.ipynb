{
 "cells": [
  {
   "cell_type": "code",
   "execution_count": 20,
   "metadata": {},
   "outputs": [],
   "source": [
    "#1. Establish a connection between Python and the Sakila database.\n",
    "\n",
    "import mysql.connector\n",
    "from getpass import getpass\n",
    "import pandas as pd\n",
    "import pymysql\n",
    "from sqlalchemy import create_engine\n",
    "\n",
    "username = \"root\"\n",
    "password = getpass()\n",
    "host = \"localhost\"\n",
    "port = 3306  # Change to your MySQL port if necessary\n",
    "database_name = \"sakila\"                            "
   ]
  },
  {
   "cell_type": "code",
   "execution_count": 31,
   "metadata": {},
   "outputs": [],
   "source": [
    "cnx = mysql.connector.connect(user = \"root\",\n",
    "                             password = getpass(),\n",
    "                             host = \"localhost\",\n",
    "                             database = \"sakila\")"
   ]
  },
  {
   "cell_type": "code",
   "execution_count": 32,
   "metadata": {},
   "outputs": [
    {
     "data": {
      "text/plain": [
       "True"
      ]
     },
     "execution_count": 32,
     "metadata": {},
     "output_type": "execute_result"
    }
   ],
   "source": [
    "cnx.is_connected()"
   ]
  },
  {
   "cell_type": "code",
   "execution_count": null,
   "metadata": {},
   "outputs": [],
   "source": [
    "cursor = cnx.cursor()"
   ]
  },
  {
   "cell_type": "markdown",
   "metadata": {},
   "source": [
    "2. Write a Python function called `rentals_month` that retrieves rental data for a given month and year (passed as parameters) from the Sakila database as a Pandas DataFrame."
   ]
  },
  {
   "cell_type": "code",
   "execution_count": null,
   "metadata": {},
   "outputs": [],
   "source": [
    "engine = create_engine(f'mysql+mysqlconnector://{username}:{password}@{host}:{port}/{database_name}')"
   ]
  },
  {
   "cell_type": "code",
   "execution_count": 37,
   "metadata": {},
   "outputs": [],
   "source": [
    "def rentals_month(engine, month, year):\n",
    "    \n",
    "    query = f\"\"\" \n",
    "    SELECT rental_id, rental_date, return_date, inventory_id, customer_id\n",
    "    FROM sakila.rental\n",
    "    WHERE MONTH(rental_date) = {month}\n",
    "    AND YEAR(rental_date) = {year};\n",
    "    \"\"\"\n",
    "    rental_df = pd.read_sql_query(query, engine)\n",
    "    rental_df['rental_date'] = pd.to_datetime(rental_df['rental_date'])\n",
    "    return pd.DataFrame(rental_df)"
   ]
  },
  {
   "cell_type": "code",
   "execution_count": 38,
   "metadata": {},
   "outputs": [
    {
     "data": {
      "text/html": [
       "<div>\n",
       "<style scoped>\n",
       "    .dataframe tbody tr th:only-of-type {\n",
       "        vertical-align: middle;\n",
       "    }\n",
       "\n",
       "    .dataframe tbody tr th {\n",
       "        vertical-align: top;\n",
       "    }\n",
       "\n",
       "    .dataframe thead th {\n",
       "        text-align: right;\n",
       "    }\n",
       "</style>\n",
       "<table border=\"1\" class=\"dataframe\">\n",
       "  <thead>\n",
       "    <tr style=\"text-align: right;\">\n",
       "      <th></th>\n",
       "      <th>rental_id</th>\n",
       "      <th>rental_date</th>\n",
       "      <th>return_date</th>\n",
       "      <th>inventory_id</th>\n",
       "      <th>customer_id</th>\n",
       "    </tr>\n",
       "  </thead>\n",
       "  <tbody>\n",
       "    <tr>\n",
       "      <th>0</th>\n",
       "      <td>1</td>\n",
       "      <td>2005-05-24 22:53:30</td>\n",
       "      <td>2005-05-26 22:04:30</td>\n",
       "      <td>367</td>\n",
       "      <td>130</td>\n",
       "    </tr>\n",
       "    <tr>\n",
       "      <th>1</th>\n",
       "      <td>2</td>\n",
       "      <td>2005-05-24 22:54:33</td>\n",
       "      <td>2005-05-28 19:40:33</td>\n",
       "      <td>1525</td>\n",
       "      <td>459</td>\n",
       "    </tr>\n",
       "    <tr>\n",
       "      <th>2</th>\n",
       "      <td>3</td>\n",
       "      <td>2005-05-24 23:03:39</td>\n",
       "      <td>2005-06-01 22:12:39</td>\n",
       "      <td>1711</td>\n",
       "      <td>408</td>\n",
       "    </tr>\n",
       "    <tr>\n",
       "      <th>3</th>\n",
       "      <td>4</td>\n",
       "      <td>2005-05-24 23:04:41</td>\n",
       "      <td>2005-06-03 01:43:41</td>\n",
       "      <td>2452</td>\n",
       "      <td>333</td>\n",
       "    </tr>\n",
       "    <tr>\n",
       "      <th>4</th>\n",
       "      <td>5</td>\n",
       "      <td>2005-05-24 23:05:21</td>\n",
       "      <td>2005-06-02 04:33:21</td>\n",
       "      <td>2079</td>\n",
       "      <td>222</td>\n",
       "    </tr>\n",
       "    <tr>\n",
       "      <th>...</th>\n",
       "      <td>...</td>\n",
       "      <td>...</td>\n",
       "      <td>...</td>\n",
       "      <td>...</td>\n",
       "      <td>...</td>\n",
       "    </tr>\n",
       "    <tr>\n",
       "      <th>1151</th>\n",
       "      <td>1153</td>\n",
       "      <td>2005-05-31 21:36:44</td>\n",
       "      <td>2005-06-10 01:26:44</td>\n",
       "      <td>2725</td>\n",
       "      <td>506</td>\n",
       "    </tr>\n",
       "    <tr>\n",
       "      <th>1152</th>\n",
       "      <td>1154</td>\n",
       "      <td>2005-05-31 21:42:09</td>\n",
       "      <td>2005-06-08 16:40:09</td>\n",
       "      <td>2732</td>\n",
       "      <td>59</td>\n",
       "    </tr>\n",
       "    <tr>\n",
       "      <th>1153</th>\n",
       "      <td>1155</td>\n",
       "      <td>2005-05-31 22:17:11</td>\n",
       "      <td>2005-06-04 20:27:11</td>\n",
       "      <td>2048</td>\n",
       "      <td>251</td>\n",
       "    </tr>\n",
       "    <tr>\n",
       "      <th>1154</th>\n",
       "      <td>1156</td>\n",
       "      <td>2005-05-31 22:37:34</td>\n",
       "      <td>2005-06-01 23:02:34</td>\n",
       "      <td>460</td>\n",
       "      <td>106</td>\n",
       "    </tr>\n",
       "    <tr>\n",
       "      <th>1155</th>\n",
       "      <td>1157</td>\n",
       "      <td>2005-05-31 22:47:45</td>\n",
       "      <td>2005-06-02 18:01:45</td>\n",
       "      <td>1449</td>\n",
       "      <td>61</td>\n",
       "    </tr>\n",
       "  </tbody>\n",
       "</table>\n",
       "<p>1156 rows × 5 columns</p>\n",
       "</div>"
      ],
      "text/plain": [
       "      rental_id         rental_date         return_date  inventory_id  \\\n",
       "0             1 2005-05-24 22:53:30 2005-05-26 22:04:30           367   \n",
       "1             2 2005-05-24 22:54:33 2005-05-28 19:40:33          1525   \n",
       "2             3 2005-05-24 23:03:39 2005-06-01 22:12:39          1711   \n",
       "3             4 2005-05-24 23:04:41 2005-06-03 01:43:41          2452   \n",
       "4             5 2005-05-24 23:05:21 2005-06-02 04:33:21          2079   \n",
       "...         ...                 ...                 ...           ...   \n",
       "1151       1153 2005-05-31 21:36:44 2005-06-10 01:26:44          2725   \n",
       "1152       1154 2005-05-31 21:42:09 2005-06-08 16:40:09          2732   \n",
       "1153       1155 2005-05-31 22:17:11 2005-06-04 20:27:11          2048   \n",
       "1154       1156 2005-05-31 22:37:34 2005-06-01 23:02:34           460   \n",
       "1155       1157 2005-05-31 22:47:45 2005-06-02 18:01:45          1449   \n",
       "\n",
       "      customer_id  \n",
       "0             130  \n",
       "1             459  \n",
       "2             408  \n",
       "3             333  \n",
       "4             222  \n",
       "...           ...  \n",
       "1151          506  \n",
       "1152           59  \n",
       "1153          251  \n",
       "1154          106  \n",
       "1155           61  \n",
       "\n",
       "[1156 rows x 5 columns]"
      ]
     },
     "execution_count": 38,
     "metadata": {},
     "output_type": "execute_result"
    }
   ],
   "source": [
    "rental_df = rentals_month(engine, 5, 2005)\n",
    "\n",
    "rental_df"
   ]
  },
  {
   "cell_type": "code",
   "execution_count": 39,
   "metadata": {},
   "outputs": [],
   "source": [
    "def rental_count_month(df, month, year):\n",
    "    filtered_df = df[(df['rental_date'].dt.month == month) & (df['rental_date'].dt.year == year)]\n",
    "    rental_count = filtered_df.groupby('customer_id').size().reset_index(name=f'rentals_{month:02d}_{year}')\n",
    "    return rental_count"
   ]
  },
  {
   "cell_type": "code",
   "execution_count": 41,
   "metadata": {},
   "outputs": [
    {
     "name": "stdout",
     "output_type": "stream",
     "text": [
      "     customer_id  rentals_05_2005\n",
      "0              1                2\n",
      "1              2                1\n",
      "2              3                2\n",
      "3              5                3\n",
      "4              6                3\n",
      "..           ...              ...\n",
      "515          594                4\n",
      "516          595                1\n",
      "517          596                6\n",
      "518          597                2\n",
      "519          599                1\n",
      "\n",
      "[520 rows x 2 columns]\n"
     ]
    }
   ],
   "source": [
    "rental_df = rentals_month(engine, 5, 2005)\n",
    "rental_count_df = rental_count_month(rental_df, 5, 2005)\n",
    "print(rental_count_df)"
   ]
  }
 ],
 "metadata": {
  "kernelspec": {
   "display_name": "base",
   "language": "python",
   "name": "python3"
  },
  "language_info": {
   "codemirror_mode": {
    "name": "ipython",
    "version": 3
   },
   "file_extension": ".py",
   "mimetype": "text/x-python",
   "name": "python",
   "nbconvert_exporter": "python",
   "pygments_lexer": "ipython3",
   "version": "3.10.11"
  },
  "orig_nbformat": 4
 },
 "nbformat": 4,
 "nbformat_minor": 2
}
