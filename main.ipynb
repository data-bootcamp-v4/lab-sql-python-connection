{
 "cells": [
  {
   "cell_type": "code",
   "execution_count": 1,
   "id": "ea87c703-e270-44d4-ae07-32a7824e0813",
   "metadata": {},
   "outputs": [],
   "source": [
    "import pandas as pd\n",
    "from sqlalchemy import create_engine \n",
    "import pymysql.cursors\n",
    "import os\n",
    "import getpass"
   ]
  },
  {
   "cell_type": "code",
   "execution_count": 2,
   "id": "42f507a2-8f1c-4d38-9bd2-9a570da3d87d",
   "metadata": {},
   "outputs": [],
   "source": [
    "pw = getpass.getpass()"
   ]
  },
  {
   "cell_type": "markdown",
   "id": "a047a892-753e-44ea-b8cc-41c92b06402e",
   "metadata": {},
   "source": [
    "1. Establish a connection between Python and the Sakila database."
   ]
  },
  {
   "cell_type": "code",
   "execution_count": 3,
   "id": "ccc9d366-83e2-423b-a85a-e4c7034d2cc3",
   "metadata": {},
   "outputs": [],
   "source": [
    "connection_string = 'mysql+pymysql://root:' + pw + '@localhost:3306/sakila'\n",
    "engine = create_engine(connection_string)"
   ]
  },
  {
   "cell_type": "markdown",
   "id": "4e4700eb-3b0e-4b43-a70b-32e0096a906e",
   "metadata": {},
   "source": [
    "2. Write a Python function called `rentals_month` that retrieves rental data for a given month and year (passed as parameters) from the Sakila database as a Pandas DataFrame. The function should take in three parameters:\n",
    "\n",
    "\t- `engine`: an object representing the database connection engine to be used to establish a connection to the Sakila database.\n",
    "\t- `month`: an integer representing the month for which rental data is to be retrieved.\n",
    "\t- `year`: an integer representing the year for which rental data is to be retrieved.\n",
    "\n",
    "\tThe function should execute a SQL query to retrieve the rental data for the specified month and year from the rental table in the Sakila database, and return it as a pandas DataFrame."
   ]
  },
  {
   "cell_type": "code",
   "execution_count": 4,
   "id": "91ef34cf-2309-4aff-a8d7-5277b81f2854",
   "metadata": {},
   "outputs": [],
   "source": [
    "def rentals_month(engine, month, year):\n",
    "    sql = f'''\n",
    "     select *\n",
    "     from sakila.rental\n",
    "     where {year} = year(rental_date)\n",
    "     and {month} = month(rental_date)\n",
    " '''\n",
    "    df = pd.read_sql_query(sql, engine)\n",
    "    return df"
   ]
  },
  {
   "cell_type": "markdown",
   "id": "0b18fbd0-9353-43ae-b81c-9482420fac14",
   "metadata": {},
   "source": [
    "3. Develop a Python function called `rental_count_month` that takes the DataFrame provided by `rentals_month` as input along with the month and year and returns a new DataFrame containing the number of rentals made by each customer_id during the selected month and year. \n",
    "\n",
    "\tThe function should also include the month and year as parameters and use them to name the new column according to the month and year, for example, if the input month is 05 and the year is 2005, the column name should be \"rentals_05_2005\".\n",
    "\n",
    "\n",
    "\t*Hint: Consider making use of pandas [groupby()](https://pandas.pydata.org/docs/reference/api/pandas.DataFrame.groupby.html)*"
   ]
  },
  {
   "cell_type": "code",
   "execution_count": 5,
   "id": "58ef967f-6275-49be-8f4c-aad988028413",
   "metadata": {},
   "outputs": [],
   "source": [
    "def rental_count_month(df, month, year):\n",
    "    # group the rentals by customer_id and count the number of rentals for each customer\n",
    "    rentals_by_customer = df.loc[(df['rental_date'].dt.month == month) & (df['rental_date'].dt.year == year)]\\\n",
    "                          .groupby('customer_id')['rental_id'].count().reset_index()\n",
    "\n",
    "    # rename the 'rental_id' column to 'rentals_{month}'\n",
    "    rentals_by_customer = rentals_by_customer.rename(columns={'rental_id': f'rentals_{month}_{year}'})\n",
    "    return rentals_by_customer"
   ]
  },
  {
   "cell_type": "markdown",
   "id": "39a45af4-0a65-4b17-aaf5-0dc01b58e590",
   "metadata": {},
   "source": [
    "4. Create a Python function called `compare_rentals` that takes two DataFrames as input containing the number of rentals made by each customer in different months and years. \n",
    "The function should return a combined DataFrame with a new 'difference' column, which is the difference between the number of rentals in the two months."
   ]
  },
  {
   "cell_type": "code",
   "execution_count": 6,
   "id": "481b95b8-dc8d-4ce8-8f85-1761d2d4228f",
   "metadata": {
    "tags": []
   },
   "outputs": [],
   "source": [
    "def compare_rentals(df1, df2):\n",
    "    # merge the two dataframes on 'customer_id'\n",
    "    merged_df = pd.merge(df1, df2, on='customer_id')\n",
    "\n",
    "    # calculate the difference between the number of rentals in the two months\n",
    "    merged_df['difference'] = merged_df[df1.columns[1]] - merged_df[df2.columns[1]]\n",
    "\n",
    "    # return the merged dataframe with the new 'difference' column\n",
    "    return merged_df"
   ]
  },
  {
   "cell_type": "code",
   "execution_count": 7,
   "id": "e6e38924-23be-480d-a00f-735f5a73876e",
   "metadata": {},
   "outputs": [
    {
     "data": {
      "text/html": [
       "<div>\n",
       "<style scoped>\n",
       "    .dataframe tbody tr th:only-of-type {\n",
       "        vertical-align: middle;\n",
       "    }\n",
       "\n",
       "    .dataframe tbody tr th {\n",
       "        vertical-align: top;\n",
       "    }\n",
       "\n",
       "    .dataframe thead th {\n",
       "        text-align: right;\n",
       "    }\n",
       "</style>\n",
       "<table border=\"1\" class=\"dataframe\">\n",
       "  <thead>\n",
       "    <tr style=\"text-align: right;\">\n",
       "      <th></th>\n",
       "      <th>customer_id</th>\n",
       "      <th>rentals_5_2005</th>\n",
       "      <th>rentals_6_2005</th>\n",
       "      <th>difference</th>\n",
       "    </tr>\n",
       "  </thead>\n",
       "  <tbody>\n",
       "    <tr>\n",
       "      <th>0</th>\n",
       "      <td>1</td>\n",
       "      <td>2</td>\n",
       "      <td>7</td>\n",
       "      <td>-5</td>\n",
       "    </tr>\n",
       "    <tr>\n",
       "      <th>1</th>\n",
       "      <td>2</td>\n",
       "      <td>1</td>\n",
       "      <td>1</td>\n",
       "      <td>0</td>\n",
       "    </tr>\n",
       "    <tr>\n",
       "      <th>2</th>\n",
       "      <td>3</td>\n",
       "      <td>2</td>\n",
       "      <td>4</td>\n",
       "      <td>-2</td>\n",
       "    </tr>\n",
       "    <tr>\n",
       "      <th>3</th>\n",
       "      <td>5</td>\n",
       "      <td>3</td>\n",
       "      <td>5</td>\n",
       "      <td>-2</td>\n",
       "    </tr>\n",
       "    <tr>\n",
       "      <th>4</th>\n",
       "      <td>6</td>\n",
       "      <td>3</td>\n",
       "      <td>4</td>\n",
       "      <td>-1</td>\n",
       "    </tr>\n",
       "    <tr>\n",
       "      <th>...</th>\n",
       "      <td>...</td>\n",
       "      <td>...</td>\n",
       "      <td>...</td>\n",
       "      <td>...</td>\n",
       "    </tr>\n",
       "    <tr>\n",
       "      <th>507</th>\n",
       "      <td>594</td>\n",
       "      <td>4</td>\n",
       "      <td>6</td>\n",
       "      <td>-2</td>\n",
       "    </tr>\n",
       "    <tr>\n",
       "      <th>508</th>\n",
       "      <td>595</td>\n",
       "      <td>1</td>\n",
       "      <td>2</td>\n",
       "      <td>-1</td>\n",
       "    </tr>\n",
       "    <tr>\n",
       "      <th>509</th>\n",
       "      <td>596</td>\n",
       "      <td>6</td>\n",
       "      <td>2</td>\n",
       "      <td>4</td>\n",
       "    </tr>\n",
       "    <tr>\n",
       "      <th>510</th>\n",
       "      <td>597</td>\n",
       "      <td>2</td>\n",
       "      <td>3</td>\n",
       "      <td>-1</td>\n",
       "    </tr>\n",
       "    <tr>\n",
       "      <th>511</th>\n",
       "      <td>599</td>\n",
       "      <td>1</td>\n",
       "      <td>4</td>\n",
       "      <td>-3</td>\n",
       "    </tr>\n",
       "  </tbody>\n",
       "</table>\n",
       "<p>512 rows × 4 columns</p>\n",
       "</div>"
      ],
      "text/plain": [
       "     customer_id  rentals_5_2005  rentals_6_2005  difference\n",
       "0              1               2               7          -5\n",
       "1              2               1               1           0\n",
       "2              3               2               4          -2\n",
       "3              5               3               5          -2\n",
       "4              6               3               4          -1\n",
       "..           ...             ...             ...         ...\n",
       "507          594               4               6          -2\n",
       "508          595               1               2          -1\n",
       "509          596               6               2           4\n",
       "510          597               2               3          -1\n",
       "511          599               1               4          -3\n",
       "\n",
       "[512 rows x 4 columns]"
      ]
     },
     "execution_count": 7,
     "metadata": {},
     "output_type": "execute_result"
    }
   ],
   "source": [
    "may = rentals_month(engine,5,2005)\n",
    "customer_rentals_may = rental_count_month(may, 5, 2005)\n",
    "\n",
    "june = rentals_month(engine,6,2005)\n",
    "customer_rentals_june = rental_count_month(june, 6, 2005)\n",
    "\n",
    "\n",
    "comparative = compare_rentals(customer_rentals_may, customer_rentals_june)\n",
    "comparative"
   ]
  }
 ],
 "metadata": {
  "kernelspec": {
   "display_name": "Python 3 (ipykernel)",
   "language": "python",
   "name": "python3"
  },
  "language_info": {
   "codemirror_mode": {
    "name": "ipython",
    "version": 3
   },
   "file_extension": ".py",
   "mimetype": "text/x-python",
   "name": "python",
   "nbconvert_exporter": "python",
   "pygments_lexer": "ipython3",
   "version": "3.10.10"
  }
 },
 "nbformat": 4,
 "nbformat_minor": 5
}
