{
 "cells": [
  {
   "cell_type": "code",
   "execution_count": 1,
   "id": "0743ed79",
   "metadata": {},
   "outputs": [
    {
     "name": "stdout",
     "output_type": "stream",
     "text": [
      "········\n"
     ]
    }
   ],
   "source": [
    "import pandas as pd\n",
    "import pymysql\n",
    "from sqlalchemy import create_engine\n",
    "import getpass\n",
    "password = getpass.getpass()"
   ]
  },
  {
   "cell_type": "code",
   "execution_count": 2,
   "id": "24e16d4b",
   "metadata": {},
   "outputs": [],
   "source": [
    "connection_string = 'mysql+pymysql://root:' + password + '@localhost/sakila'\n",
    "engine = create_engine(connection_string)"
   ]
  },
  {
   "cell_type": "code",
   "execution_count": 3,
   "id": "67de5386",
   "metadata": {},
   "outputs": [],
   "source": [
    "def rentals_month(engine, month, year):\n",
    "    \"\"\"\n",
    "    Retrieve rental data for a given month and year from the Sakila database.\n",
    "    \n",
    "    Args:\n",
    "        engine: SQLAlchemy engine object representing the database connection.\n",
    "        month: Integer representing the month for which rental data is to be retrieved.\n",
    "        year: Integer representing the year for which rental data is to be retrieved.\n",
    "    \n",
    "    Returns:\n",
    "        pd.DataFrame: DataFrame containing the rental data for the specified month and year.\n",
    "    \"\"\"\n",
    "    # Define the SQL query\n",
    "    query = f\"\"\"\n",
    "        SELECT *\n",
    "        FROM rental\n",
    "        WHERE MONTH(rental_date) = {month} AND YEAR(rental_date) = {year}\n",
    "    \"\"\"\n",
    "    \n",
    "    # Execute the query and retrieve the data as a DataFrame\n",
    "    rental_data = pd.read_sql(query, engine)\n",
    "    \n",
    "    return rental_data"
   ]
  },
  {
   "cell_type": "code",
   "execution_count": 4,
   "id": "f88ac36b",
   "metadata": {},
   "outputs": [],
   "source": [
    "def rental_count_month(df, month, year):\n",
    "    \"\"\"\n",
    "    Compute the number of rentals made by each customer_id during the selected month and year.\n",
    "    \n",
    "    Args:\n",
    "        df (pd.DataFrame): DataFrame containing rental data for a specific month and year.\n",
    "        month (int): Integer representing the month for which rental data is retrieved.\n",
    "        year (int): Integer representing the year for which rental data is retrieved.\n",
    "    \n",
    "    Returns:\n",
    "        pd.DataFrame: DataFrame with the number of rentals made by each customer_id during the specified month and year.\n",
    "    \"\"\"\n",
    "    # Group the DataFrame by 'customer_id' and count the rentals\n",
    "    rental_counts = df.groupby('customer_id').size().reset_index(name=f'rentals_{month:02d}_{year}')\n",
    "    \n",
    "    return rental_counts"
   ]
  },
  {
   "cell_type": "code",
   "execution_count": 5,
   "id": "1f8e61c7",
   "metadata": {},
   "outputs": [],
   "source": [
    "def compare_rentals(df1, df2):\n",
    "    \"\"\"\n",
    "    Compare the number of rentals made by each customer in different months and years.\n",
    "    \n",
    "    Args:\n",
    "        df1 (pd.DataFrame): DataFrame containing rental counts for the first month and year.\n",
    "        df2 (pd.DataFrame): DataFrame containing rental counts for the second month and year.\n",
    "    \n",
    "    Returns:\n",
    "        pd.DataFrame: Combined DataFrame with a new 'difference' column representing the difference in rental counts.\n",
    "    \"\"\"\n",
    "    # Merge the two DataFrames on 'customer_id'\n",
    "    merged_df = pd.merge(df1, df2, on='customer_id', how='outer')\n",
    "    \n",
    "    # Compute the difference between rental counts\n",
    "    merged_df['difference'] = merged_df.iloc[:, 1] - merged_df.iloc[:, 2]\n",
    "    \n",
    "    return merged_df"
   ]
  }
 ],
 "metadata": {
  "kernelspec": {
   "display_name": "Python 3 (ipykernel)",
   "language": "python",
   "name": "python3"
  },
  "language_info": {
   "codemirror_mode": {
    "name": "ipython",
    "version": 3
   },
   "file_extension": ".py",
   "mimetype": "text/x-python",
   "name": "python",
   "nbconvert_exporter": "python",
   "pygments_lexer": "ipython3",
   "version": "3.10.9"
  }
 },
 "nbformat": 4,
 "nbformat_minor": 5
}
