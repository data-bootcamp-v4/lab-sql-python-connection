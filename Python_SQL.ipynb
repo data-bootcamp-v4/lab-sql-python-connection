{
 "cells": [
  {
   "cell_type": "code",
   "execution_count": 9,
   "id": "af7c215a",
   "metadata": {},
   "outputs": [],
   "source": [
    "import mysql.connector\n",
    "from getpass import getpass\n",
    "import pandas as pd"
   ]
  },
  {
   "cell_type": "code",
   "execution_count": 43,
   "id": "27622002",
   "metadata": {},
   "outputs": [
    {
     "name": "stdout",
     "output_type": "stream",
     "text": [
      "········\n"
     ]
    },
    {
     "data": {
      "text/plain": [
       "True"
      ]
     },
     "execution_count": 43,
     "metadata": {},
     "output_type": "execute_result"
    }
   ],
   "source": [
    "#1. Establish a connection between Python and the Sakila database.\n",
    "password = getpass()\n",
    "cnx = mysql.connector.connect(user = \"root\",\n",
    "                              password = password,\n",
    "                              host = \"localhost\",\n",
    "                              database = \"sakila\")\n",
    "\n",
    "cnx.is_connected()"
   ]
  },
  {
   "cell_type": "code",
   "execution_count": 44,
   "id": "d62ecd64",
   "metadata": {},
   "outputs": [],
   "source": [
    "cursor = cnx.cursor()"
   ]
  },
  {
   "cell_type": "code",
   "execution_count": 47,
   "id": "6ebb6496",
   "metadata": {},
   "outputs": [],
   "source": [
    "# 2. Write a Python function called `rentals_month` that retrieves rental data for a given month and year (passed as parameters) from the Sakila database as a Pandas DataFrame. The function should take in three parameters:\n",
    "\n",
    "# \t- `engine`: an object representing the database connection engine to be used to establish a connection to the Sakila database.\n",
    "# \t- `month`: an integer representing the month for which rental data is to be retrieved.\n",
    "# \t- `year`: an integer representing the year for which rental data is to be retrieved.\n",
    "\n",
    "def rentals_month(cnx,month, year):\n",
    "    query = (\"\"\"SELECT YEAR(rental_date) AS rental_year, \n",
    "            MONTH(rental_date) AS rental_month, \n",
    "            customer_id\n",
    "            FROM sakila.rental;\"\"\") \n",
    "    cursor.execute(query)\n",
    "    results = cursor.fetchall()\n",
    "    cursor.description\n",
    "    columns = [header[0] for header in cursor.description]\n",
    "    rental_df = pd.DataFrame(results, columns = columns)\n",
    "\n",
    "    return rental_df"
   ]
  },
  {
   "cell_type": "code",
   "execution_count": 48,
   "id": "e58fa68a",
   "metadata": {},
   "outputs": [
    {
     "name": "stdout",
     "output_type": "stream",
     "text": [
      "       rental_year  rental_month  customer_id\n",
      "0             2005             5          130\n",
      "1             2005             5          459\n",
      "2             2005             5          408\n",
      "3             2005             5          333\n",
      "4             2005             5          222\n",
      "...            ...           ...          ...\n",
      "16039         2006             2          274\n",
      "16040         2006             2          374\n",
      "16041         2006             2          216\n",
      "16042         2006             2          532\n",
      "16043         2006             2          373\n",
      "\n",
      "[16044 rows x 3 columns]\n"
     ]
    }
   ],
   "source": [
    "cnx.is_connected()\n",
    "\n",
    "may_rentals = rentals_month(cnx, month=5, year=2005)\n",
    "june_rentals = rentals_month(cnx, month=6, year=2005)\n",
    "print(may_rentals)\n"
   ]
  },
  {
   "cell_type": "code",
   "execution_count": 49,
   "id": "fa17d53d",
   "metadata": {},
   "outputs": [],
   "source": [
    "# Identify unique customers who rented movies in both May and June\n",
    "may_customers = set(may_rentals['customer_id'])\n",
    "june_customers = set(june_rentals['customer_id'])\n",
    "common_customers = may_customers.intersection(june_customers)"
   ]
  },
  {
   "cell_type": "code",
   "execution_count": 55,
   "id": "1f363dfa",
   "metadata": {},
   "outputs": [
    {
     "data": {
      "text/html": [
       "<div>\n",
       "<style scoped>\n",
       "    .dataframe tbody tr th:only-of-type {\n",
       "        vertical-align: middle;\n",
       "    }\n",
       "\n",
       "    .dataframe tbody tr th {\n",
       "        vertical-align: top;\n",
       "    }\n",
       "\n",
       "    .dataframe thead th {\n",
       "        text-align: right;\n",
       "    }\n",
       "</style>\n",
       "<table border=\"1\" class=\"dataframe\">\n",
       "  <thead>\n",
       "    <tr style=\"text-align: right;\">\n",
       "      <th></th>\n",
       "      <th>rental_year_may</th>\n",
       "      <th>rental_month_may</th>\n",
       "      <th>customer_id</th>\n",
       "      <th>rental_year_june</th>\n",
       "      <th>rental_month_june</th>\n",
       "    </tr>\n",
       "  </thead>\n",
       "  <tbody>\n",
       "    <tr>\n",
       "      <th>0</th>\n",
       "      <td>2005</td>\n",
       "      <td>5</td>\n",
       "      <td>130</td>\n",
       "      <td>2005</td>\n",
       "      <td>5</td>\n",
       "    </tr>\n",
       "    <tr>\n",
       "      <th>1</th>\n",
       "      <td>2005</td>\n",
       "      <td>5</td>\n",
       "      <td>130</td>\n",
       "      <td>2005</td>\n",
       "      <td>5</td>\n",
       "    </tr>\n",
       "    <tr>\n",
       "      <th>2</th>\n",
       "      <td>2005</td>\n",
       "      <td>5</td>\n",
       "      <td>130</td>\n",
       "      <td>2005</td>\n",
       "      <td>6</td>\n",
       "    </tr>\n",
       "    <tr>\n",
       "      <th>3</th>\n",
       "      <td>2005</td>\n",
       "      <td>5</td>\n",
       "      <td>130</td>\n",
       "      <td>2005</td>\n",
       "      <td>6</td>\n",
       "    </tr>\n",
       "    <tr>\n",
       "      <th>4</th>\n",
       "      <td>2005</td>\n",
       "      <td>5</td>\n",
       "      <td>130</td>\n",
       "      <td>2005</td>\n",
       "      <td>6</td>\n",
       "    </tr>\n",
       "    <tr>\n",
       "      <th>...</th>\n",
       "      <td>...</td>\n",
       "      <td>...</td>\n",
       "      <td>...</td>\n",
       "      <td>...</td>\n",
       "      <td>...</td>\n",
       "    </tr>\n",
       "    <tr>\n",
       "      <th>445345</th>\n",
       "      <td>2005</td>\n",
       "      <td>8</td>\n",
       "      <td>195</td>\n",
       "      <td>2005</td>\n",
       "      <td>8</td>\n",
       "    </tr>\n",
       "    <tr>\n",
       "      <th>445346</th>\n",
       "      <td>2005</td>\n",
       "      <td>8</td>\n",
       "      <td>195</td>\n",
       "      <td>2005</td>\n",
       "      <td>8</td>\n",
       "    </tr>\n",
       "    <tr>\n",
       "      <th>445347</th>\n",
       "      <td>2005</td>\n",
       "      <td>8</td>\n",
       "      <td>195</td>\n",
       "      <td>2005</td>\n",
       "      <td>8</td>\n",
       "    </tr>\n",
       "    <tr>\n",
       "      <th>445348</th>\n",
       "      <td>2005</td>\n",
       "      <td>8</td>\n",
       "      <td>195</td>\n",
       "      <td>2005</td>\n",
       "      <td>8</td>\n",
       "    </tr>\n",
       "    <tr>\n",
       "      <th>445349</th>\n",
       "      <td>2005</td>\n",
       "      <td>8</td>\n",
       "      <td>195</td>\n",
       "      <td>2005</td>\n",
       "      <td>8</td>\n",
       "    </tr>\n",
       "  </tbody>\n",
       "</table>\n",
       "<p>445350 rows × 5 columns</p>\n",
       "</div>"
      ],
      "text/plain": [
       "        rental_year_may  rental_month_may  customer_id  rental_year_june  \\\n",
       "0                  2005                 5          130              2005   \n",
       "1                  2005                 5          130              2005   \n",
       "2                  2005                 5          130              2005   \n",
       "3                  2005                 5          130              2005   \n",
       "4                  2005                 5          130              2005   \n",
       "...                 ...               ...          ...               ...   \n",
       "445345             2005                 8          195              2005   \n",
       "445346             2005                 8          195              2005   \n",
       "445347             2005                 8          195              2005   \n",
       "445348             2005                 8          195              2005   \n",
       "445349             2005                 8          195              2005   \n",
       "\n",
       "        rental_month_june  \n",
       "0                       5  \n",
       "1                       5  \n",
       "2                       6  \n",
       "3                       6  \n",
       "4                       6  \n",
       "...                   ...  \n",
       "445345                  8  \n",
       "445346                  8  \n",
       "445347                  8  \n",
       "445348                  8  \n",
       "445349                  8  \n",
       "\n",
       "[445350 rows x 5 columns]"
      ]
     },
     "execution_count": 55,
     "metadata": {},
     "output_type": "execute_result"
    }
   ],
   "source": [
    "may_common_customers_rentals = may_rentals[may_rentals['customer_id'].isin(common_customers)]\n",
    "june_common_customers_rentals = june_rentals[june_rentals['customer_id'].isin(common_customers)]\n",
    "\n",
    "# Compare rental activity between May and June for common customers\n",
    "common_customers_comparison = pd.merge(\n",
    "    may_common_customers_rentals,\n",
    "    june_common_customers_rentals,\n",
    "    on='customer_id',\n",
    "    suffixes=('_may', '_june')\n",
    ")\n",
    "\n",
    "common_customers_comparison"
   ]
  },
  {
   "cell_type": "code",
   "execution_count": 64,
   "id": "098936b0",
   "metadata": {},
   "outputs": [],
   "source": [
    "#3. Develop a Python function called `rental_count_month` that takes the DataFrame provided by `rentals_month` as input along with the month and year and returns a new DataFrame containing the number of rentals made by each customer_id during the selected month and year. \n",
    "def rental_count_month(rentals_df, month, year):\n",
    "    # Extract year and month from the rental_date\n",
    "    rentals_df['rental_year'] = pd.DatetimeIndex(rentals_df['rental_year']).year\n",
    "    rentals_df['rental_month'] = pd.DatetimeIndex(rentals_df['rental_month']).month\n",
    "\n",
    "    # Filter data for the specified month and year\n",
    "    filtered_rentals = rentals_df[(rentals_df['rental_year'] == year) & (rentals_df['rental_month'] == month)]\n",
    "\n",
    "    # Group by customer_id and count the number of rentals\n",
    "    rental_counts = filtered_rentals.groupby('customer_id').size().reset_index(name=f'rentals_{month}_{year}')\n",
    "\n",
    "    return rental_counts"
   ]
  },
  {
   "cell_type": "code",
   "execution_count": 76,
   "id": "02ab2d55",
   "metadata": {},
   "outputs": [],
   "source": [
    "rental_counts_may_2005 = rental_count_month(may_rentals, 5, 2005)\n",
    "rental_counts_june_2005 = rental_count_month(june_rentals, 6, 2005)"
   ]
  },
  {
   "cell_type": "code",
   "execution_count": 77,
   "id": "88386ca1",
   "metadata": {},
   "outputs": [
    {
     "data": {
      "text/html": [
       "<div>\n",
       "<style scoped>\n",
       "    .dataframe tbody tr th:only-of-type {\n",
       "        vertical-align: middle;\n",
       "    }\n",
       "\n",
       "    .dataframe tbody tr th {\n",
       "        vertical-align: top;\n",
       "    }\n",
       "\n",
       "    .dataframe thead th {\n",
       "        text-align: right;\n",
       "    }\n",
       "</style>\n",
       "<table border=\"1\" class=\"dataframe\">\n",
       "  <thead>\n",
       "    <tr style=\"text-align: right;\">\n",
       "      <th></th>\n",
       "      <th>customer_id</th>\n",
       "      <th>rentals_6_2005</th>\n",
       "    </tr>\n",
       "  </thead>\n",
       "  <tbody>\n",
       "  </tbody>\n",
       "</table>\n",
       "</div>"
      ],
      "text/plain": [
       "Empty DataFrame\n",
       "Columns: [customer_id, rentals_6_2005]\n",
       "Index: []"
      ]
     },
     "execution_count": 77,
     "metadata": {},
     "output_type": "execute_result"
    }
   ],
   "source": [
    "rental_counts_june_2005"
   ]
  },
  {
   "cell_type": "code",
   "execution_count": 78,
   "id": "2e8da2ff",
   "metadata": {},
   "outputs": [],
   "source": [
    "def compare_rentals(rentals_1, rentals_2):\n",
    "    # Merge DataFrames on 'customer_id'\n",
    "    merged_rentals = pd.merge(rentals_1, rentals_2, on='customer_id', how='outer', suffixes=('_month1', '_month2'))\n",
    "\n",
    "    # Fill NaN values with 0, as NaN indicates no rentals for that customer in a particular month\n",
    "    merged_rentals = merged_rentals.fillna(0)\n",
    "\n",
    "    # Calculate the difference between the number of rentals in the two months\n",
    "    merged_rentals['difference'] = merged_rentals['rentals_month1'] - merged_rentals['rentals_month2']\n",
    "\n",
    "    return merged_rentals"
   ]
  },
  {
   "cell_type": "code",
   "execution_count": 79,
   "id": "fbd85ea3",
   "metadata": {},
   "outputs": [
    {
     "ename": "KeyError",
     "evalue": "'rentals_month1'",
     "output_type": "error",
     "traceback": [
      "\u001b[1;31m---------------------------------------------------------------------------\u001b[0m",
      "\u001b[1;31mKeyError\u001b[0m                                  Traceback (most recent call last)",
      "File \u001b[1;32m~\\anaconda3\\Lib\\site-packages\\pandas\\core\\indexes\\base.py:3653\u001b[0m, in \u001b[0;36mIndex.get_loc\u001b[1;34m(self, key)\u001b[0m\n\u001b[0;32m   3652\u001b[0m \u001b[38;5;28;01mtry\u001b[39;00m:\n\u001b[1;32m-> 3653\u001b[0m     \u001b[38;5;28;01mreturn\u001b[39;00m \u001b[38;5;28mself\u001b[39m\u001b[38;5;241m.\u001b[39m_engine\u001b[38;5;241m.\u001b[39mget_loc(casted_key)\n\u001b[0;32m   3654\u001b[0m \u001b[38;5;28;01mexcept\u001b[39;00m \u001b[38;5;167;01mKeyError\u001b[39;00m \u001b[38;5;28;01mas\u001b[39;00m err:\n",
      "File \u001b[1;32m~\\anaconda3\\Lib\\site-packages\\pandas\\_libs\\index.pyx:147\u001b[0m, in \u001b[0;36mpandas._libs.index.IndexEngine.get_loc\u001b[1;34m()\u001b[0m\n",
      "File \u001b[1;32m~\\anaconda3\\Lib\\site-packages\\pandas\\_libs\\index.pyx:176\u001b[0m, in \u001b[0;36mpandas._libs.index.IndexEngine.get_loc\u001b[1;34m()\u001b[0m\n",
      "File \u001b[1;32mpandas\\_libs\\hashtable_class_helper.pxi:7080\u001b[0m, in \u001b[0;36mpandas._libs.hashtable.PyObjectHashTable.get_item\u001b[1;34m()\u001b[0m\n",
      "File \u001b[1;32mpandas\\_libs\\hashtable_class_helper.pxi:7088\u001b[0m, in \u001b[0;36mpandas._libs.hashtable.PyObjectHashTable.get_item\u001b[1;34m()\u001b[0m\n",
      "\u001b[1;31mKeyError\u001b[0m: 'rentals_month1'",
      "\nThe above exception was the direct cause of the following exception:\n",
      "\u001b[1;31mKeyError\u001b[0m                                  Traceback (most recent call last)",
      "Cell \u001b[1;32mIn[79], line 1\u001b[0m\n\u001b[1;32m----> 1\u001b[0m comparison_result \u001b[38;5;241m=\u001b[39m compare_rentals(rental_counts_may_2005, rental_counts_june_2005)\n",
      "Cell \u001b[1;32mIn[78], line 9\u001b[0m, in \u001b[0;36mcompare_rentals\u001b[1;34m(rentals_1, rentals_2)\u001b[0m\n\u001b[0;32m      6\u001b[0m merged_rentals \u001b[38;5;241m=\u001b[39m merged_rentals\u001b[38;5;241m.\u001b[39mfillna(\u001b[38;5;241m0\u001b[39m)\n\u001b[0;32m      8\u001b[0m \u001b[38;5;66;03m# Calculate the difference between the number of rentals in the two months\u001b[39;00m\n\u001b[1;32m----> 9\u001b[0m merged_rentals[\u001b[38;5;124m'\u001b[39m\u001b[38;5;124mdifference\u001b[39m\u001b[38;5;124m'\u001b[39m] \u001b[38;5;241m=\u001b[39m merged_rentals[\u001b[38;5;124m'\u001b[39m\u001b[38;5;124mrentals_month1\u001b[39m\u001b[38;5;124m'\u001b[39m] \u001b[38;5;241m-\u001b[39m merged_rentals[\u001b[38;5;124m'\u001b[39m\u001b[38;5;124mrentals_month2\u001b[39m\u001b[38;5;124m'\u001b[39m]\n\u001b[0;32m     11\u001b[0m \u001b[38;5;28;01mreturn\u001b[39;00m merged_rentals\n",
      "File \u001b[1;32m~\\anaconda3\\Lib\\site-packages\\pandas\\core\\frame.py:3761\u001b[0m, in \u001b[0;36mDataFrame.__getitem__\u001b[1;34m(self, key)\u001b[0m\n\u001b[0;32m   3759\u001b[0m \u001b[38;5;28;01mif\u001b[39;00m \u001b[38;5;28mself\u001b[39m\u001b[38;5;241m.\u001b[39mcolumns\u001b[38;5;241m.\u001b[39mnlevels \u001b[38;5;241m>\u001b[39m \u001b[38;5;241m1\u001b[39m:\n\u001b[0;32m   3760\u001b[0m     \u001b[38;5;28;01mreturn\u001b[39;00m \u001b[38;5;28mself\u001b[39m\u001b[38;5;241m.\u001b[39m_getitem_multilevel(key)\n\u001b[1;32m-> 3761\u001b[0m indexer \u001b[38;5;241m=\u001b[39m \u001b[38;5;28mself\u001b[39m\u001b[38;5;241m.\u001b[39mcolumns\u001b[38;5;241m.\u001b[39mget_loc(key)\n\u001b[0;32m   3762\u001b[0m \u001b[38;5;28;01mif\u001b[39;00m is_integer(indexer):\n\u001b[0;32m   3763\u001b[0m     indexer \u001b[38;5;241m=\u001b[39m [indexer]\n",
      "File \u001b[1;32m~\\anaconda3\\Lib\\site-packages\\pandas\\core\\indexes\\base.py:3655\u001b[0m, in \u001b[0;36mIndex.get_loc\u001b[1;34m(self, key)\u001b[0m\n\u001b[0;32m   3653\u001b[0m     \u001b[38;5;28;01mreturn\u001b[39;00m \u001b[38;5;28mself\u001b[39m\u001b[38;5;241m.\u001b[39m_engine\u001b[38;5;241m.\u001b[39mget_loc(casted_key)\n\u001b[0;32m   3654\u001b[0m \u001b[38;5;28;01mexcept\u001b[39;00m \u001b[38;5;167;01mKeyError\u001b[39;00m \u001b[38;5;28;01mas\u001b[39;00m err:\n\u001b[1;32m-> 3655\u001b[0m     \u001b[38;5;28;01mraise\u001b[39;00m \u001b[38;5;167;01mKeyError\u001b[39;00m(key) \u001b[38;5;28;01mfrom\u001b[39;00m \u001b[38;5;21;01merr\u001b[39;00m\n\u001b[0;32m   3656\u001b[0m \u001b[38;5;28;01mexcept\u001b[39;00m \u001b[38;5;167;01mTypeError\u001b[39;00m:\n\u001b[0;32m   3657\u001b[0m     \u001b[38;5;66;03m# If we have a listlike key, _check_indexing_error will raise\u001b[39;00m\n\u001b[0;32m   3658\u001b[0m     \u001b[38;5;66;03m#  InvalidIndexError. Otherwise we fall through and re-raise\u001b[39;00m\n\u001b[0;32m   3659\u001b[0m     \u001b[38;5;66;03m#  the TypeError.\u001b[39;00m\n\u001b[0;32m   3660\u001b[0m     \u001b[38;5;28mself\u001b[39m\u001b[38;5;241m.\u001b[39m_check_indexing_error(key)\n",
      "\u001b[1;31mKeyError\u001b[0m: 'rentals_month1'"
     ]
    }
   ],
   "source": [
    "comparison_result = compare_rentals(rental_counts_may_2005, rental_counts_june_2005)"
   ]
  },
  {
   "cell_type": "code",
   "execution_count": null,
   "id": "f713eb02",
   "metadata": {},
   "outputs": [],
   "source": []
  }
 ],
 "metadata": {
  "kernelspec": {
   "display_name": "Python 3 (ipykernel)",
   "language": "python",
   "name": "python3"
  },
  "language_info": {
   "codemirror_mode": {
    "name": "ipython",
    "version": 3
   },
   "file_extension": ".py",
   "mimetype": "text/x-python",
   "name": "python",
   "nbconvert_exporter": "python",
   "pygments_lexer": "ipython3",
   "version": "3.11.5"
  }
 },
 "nbformat": 4,
 "nbformat_minor": 5
}
